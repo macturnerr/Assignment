{
 "cells": [
  {
   "cell_type": "markdown",
   "metadata": {},
   "source": [
    "# Data Science Final Project"
   ]
  },
  {
   "cell_type": "markdown",
   "metadata": {},
   "source": [
    "## Introduction\n",
    "This notebook will show what we learned in course 2 of the certificate.\n",
    "\n",
    "---"
   ]
  },
  {
   "cell_type": "markdown",
   "metadata": {},
   "source": [
    "## Languages of Data Science\n",
    "**Primary Languages**\n",
    "* Python\n",
    "* R\n",
    "* SQL\n",
    "\n",
    "**Other Languages**\n",
    "* Java\n",
    "* Scala\n",
    "* c++\n",
    "* Javascript\n",
    "* Julia\n",
    "\n",
    "----"
   ]
  },
  {
   "cell_type": "markdown",
   "metadata": {},
   "source": [
    "\n",
    "## Data Science Libraries\n",
    "\n",
    "**Scientific Computing Libraries**\n",
    "\n",
    "- **Python:**\n",
    "  - Pandas\n",
    "  - NumPy\n",
    "\n",
    "**Visualization Libraries**\n",
    "\n",
    "- **Python:**\n",
    "  - Matplotlib\n",
    "  - Seaborn\n",
    "- **R:**\n",
    "  - ggplot2\n",
    "- **Scala:**\n",
    "  - Vegas\n",
    "\n",
    "**Machine Learning Libraries**\n",
    "\n",
    "- **Python:**\n",
    "  - Scikit-learn\n",
    "\n",
    "**Deep Learning Libraries**\n",
    "\n",
    "- **Python:**\n",
    "  - Keras (High-level, **R compatible**)\n",
    "  - TensorFlow (Low-level, production, **R compatible**)\n",
    "  - PyTorch (experimental)\n",
    "- **Scala:**\n",
    "  - BigDL \n",
    "\n"
   ]
  },
  {
   "cell_type": "markdown",
   "metadata": {},
   "source": [
    "## Data Science Tools\n",
    "\n",
    "\n",
    "| **Category**                      | **Tools/Examples**                                                                                           |\n",
    "|-----------------------------------|--------------------------------------------------------------------------------------------------------------|\n",
    "| **Data Management Tools**         | MySQL, PostgreSQL, MongoDB, Apache CouchDB, Apache Cassandra, Hadoop File System, Ceph, Elasticsearch        |\n",
    "| **Data Integration & Transformation** | Apache AirFlow, KubeFlow, Apache Kafka, Apache Nifi, Apache SparkSQL, NodeRED                                |\n",
    "| **Data Visualization**            | Pixie Dust, Hue, Kibana, Apache Superset                                                                     |\n",
    "| **Model Deployment**              | Apache PredictionIO, Seldon, Kubernetes, Redhat OpenShift, MLeap, TensorFlow Service, TensorFlow Lite, TensorFlow.js |\n",
    "| **Model Monitoring & Assessment** | ModelDB, Prometheus, IBM AI Fairness 360, IBM Adversarial Robustness 360, IBM AI Explainability 360          |\n",
    "| **Code Asset Management**         | Git, GitHub, GitLab, Bitbucket                                                                               |\n",
    "| **Data Asset Management**         | Apache Atlas, ODPi Egeria, Kylo                                                                              |\n"
   ]
  },
  {
   "cell_type": "markdown",
   "metadata": {},
   "source": [
    "## Arithmetic Expressions Examples\n",
    "\n",
    "Arthmetic Expressions are used for calculations. Such as data manipulation and statistical analysis"
   ]
  },
  {
   "cell_type": "code",
   "execution_count": 9,
   "metadata": {},
   "outputs": [
    {
     "name": "stdout",
     "output_type": "stream",
     "text": [
      "90\n"
     ]
    }
   ],
   "source": [
    "# Exercise 8 - Create a code cell to multiply and add numbers.\n",
    "result = (5*7) + 55\n",
    "print(result)"
   ]
  },
  {
   "cell_type": "code",
   "execution_count": 10,
   "metadata": {},
   "outputs": [
    {
     "name": "stdout",
     "output_type": "stream",
     "text": [
      "120 minutes is equal to 2 hours!\n"
     ]
    }
   ],
   "source": [
    "# Exercise 9 - Create a code cell to convert minutes to hours\n",
    "minutes = 120\n",
    "hours = minutes / 60\n",
    "print(str(minutes) + \" minutes is equal to \" + str(int(hours)) + \" hours!\")\n"
   ]
  },
  {
   "cell_type": "markdown",
   "metadata": {},
   "source": [
    "## Objectives\n",
    "\n",
    "* Understand and list popular data science languages.\n",
    "* Identify key data science libraries.\n",
    "* Familiarize with common data science tools.\n",
    "* Practice basic arithmetic operations in code.\n",
    "* Convert units programmatically.\n",
    "\n",
    "----"
   ]
  },
  {
   "cell_type": "markdown",
   "metadata": {},
   "source": [
    "## Author\n",
    "\n",
    "Mac Turner"
   ]
  }
 ],
 "metadata": {
  "kernelspec": {
   "display_name": "env",
   "language": "python",
   "name": "python3"
  },
  "language_info": {
   "codemirror_mode": {
    "name": "ipython",
    "version": 3
   },
   "file_extension": ".py",
   "mimetype": "text/x-python",
   "name": "python",
   "nbconvert_exporter": "python",
   "pygments_lexer": "ipython3",
   "version": "3.13.0"
  }
 },
 "nbformat": 4,
 "nbformat_minor": 2
}

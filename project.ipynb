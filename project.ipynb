{
 "cells": [
  {
   "cell_type": "markdown",
   "metadata": {},
   "source": [
    "# Data Science Final Project"
   ]
  },
  {
   "cell_type": "markdown",
   "metadata": {},
   "source": [
    "## Introduction\n",
    "This notebook will show what we learned in course 2 of the certificate.\n",
    "\n",
    "---"
   ]
  },
  {
   "cell_type": "markdown",
   "metadata": {},
   "source": [
    "Some of the popular languages that Data Scientists use are:\n",
    "* Python\n",
    "* R\n",
    "* SQL\n",
    "* Java\n",
    "* Scala\n",
    "* c++\n",
    "* Javascript\n",
    "* Julia\n",
    "\n",
    "----"
   ]
  },
  {
   "cell_type": "markdown",
   "metadata": {},
   "source": [
    "\n",
    "Some of the popular languages that Data Scientists use are:\n",
    "  - Pandas\n",
    "  - NumPy\n",
    "  - Matplotlib\n",
    "  - Seaborn\n",
    "  - ggplot2\n",
    "  - Vegas\n",
    "  - Scikit-learn\n",
    "  - Keras (High-level)\n",
    "  - TensorFlow (Low-level, production)\n",
    "  - PyTorch (experimental)\n",
    "  - BigDL \n",
    "\n"
   ]
  },
  {
   "cell_type": "markdown",
   "metadata": {},
   "source": [
    "| **Data Science Tools**                  |\n",
    "|-----------------------------------|\n",
    "| MySQL                              |\n",
    "| PostgreSQL                         |\n",
    "| MongoDB                            |\n",
    "| Apache CouchDB                     |\n",
    "| Apache Cassandra                   |\n",
    "| Hadoop File System                 |\n",
    "| Ceph                               |\n",
    "| Elasticsearch                      |\n",
    "| Apache AirFlow                     |\n",
    "| KubeFlow                           |\n",
    "| Apache Kafka                       |\n",
    "| Apache Nifi                        |\n",
    "| Apache SparkSQL                    |\n",
    "| NodeRED                            |\n",
    "| Pixie Dust                         |\n",
    "| Hue                                |\n",
    "| Kibana                             |\n",
    "| Apache Superset                    |\n",
    "| Apache PredictionIO                |\n",
    "| Seldon                             |\n",
    "| Kubernetes                         |\n",
    "| Redhat OpenShift                   |\n",
    "| MLeap                              |\n",
    "| TensorFlow Service                 |\n",
    "| TensorFlow Lite                    |\n",
    "| TensorFlow.js                      |\n",
    "| ModelDB                            |\n",
    "| Prometheus                         |\n",
    "| IBM AI Fairness 360                |\n",
    "| IBM Adversarial Robustness 360     |\n",
    "| IBM AI Explainability 360          |\n",
    "| Git                                |\n",
    "| GitHub                             |\n",
    "| GitLab                             |\n",
    "| Bitbucket                          |\n",
    "| Apache Atlas                       |\n",
    "| ODPi Egeria                        |\n",
    "| Kylo                               |\n"
   ]
  },
  {
   "cell_type": "markdown",
   "metadata": {},
   "source": [
    "## Arithmetic Expressions Examples\n",
    "\n",
    "Arthmetic Expressions are used for calculations. Such as data manipulation and statistical analysis"
   ]
  },
  {
   "cell_type": "code",
   "execution_count": 11,
   "metadata": {},
   "outputs": [
    {
     "name": "stdout",
     "output_type": "stream",
     "text": [
      "17\n"
     ]
    }
   ],
   "source": [
    "# Exercise 8 - Create a code cell to multiply and add numbers.\n",
    "result = (3*4) + 5\n",
    "print(result)"
   ]
  },
  {
   "cell_type": "code",
   "execution_count": 13,
   "metadata": {},
   "outputs": [
    {
     "name": "stdout",
     "output_type": "stream",
     "text": [
      "200 minutes is equal to 3.3333333333333335 hours!\n"
     ]
    }
   ],
   "source": [
    "# Exercise 9 - Create a code cell to convert minutes to hours\n",
    "minutes = 200\n",
    "hours = minutes / 60\n",
    "print(str(minutes) + \" minutes is equal to \" + str((hours)) + \" hours!\")\n"
   ]
  },
  {
   "cell_type": "markdown",
   "metadata": {},
   "source": [
    "## Objectives\n",
    "\n",
    "* Add Comments to code cells\n",
    "* Create Markdown cells\n",
    "* Add ordered and unordered lists to markdown\n",
    "* Format Content of markdown cells with heading styles\n",
    "\n",
    "----"
   ]
  },
  {
   "cell_type": "markdown",
   "metadata": {},
   "source": [
    "## Author\n",
    "\n",
    "Mac Turner"
   ]
  }
 ],
 "metadata": {
  "kernelspec": {
   "display_name": "env",
   "language": "python",
   "name": "python3"
  },
  "language_info": {
   "codemirror_mode": {
    "name": "ipython",
    "version": 3
   },
   "file_extension": ".py",
   "mimetype": "text/x-python",
   "name": "python",
   "nbconvert_exporter": "python",
   "pygments_lexer": "ipython3",
   "version": "3.13.0"
  }
 },
 "nbformat": 4,
 "nbformat_minor": 2
}
